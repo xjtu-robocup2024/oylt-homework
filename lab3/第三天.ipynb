{
 "cells": [
  {
   "cell_type": "markdown",
   "id": "5e116f9a-2d68-4347-807c-2c15b54cb5db",
   "metadata": {},
   "source": [
    "# 第三天"
   ]
  },
  {
   "cell_type": "code",
   "execution_count": 2,
   "id": "0894f40f-b614-4eac-bad5-1ccdffb2a3f8",
   "metadata": {},
   "outputs": [
    {
     "data": {
      "text/plain": [
       "1534"
      ]
     },
     "execution_count": 2,
     "metadata": {},
     "output_type": "execute_result"
    }
   ],
   "source": [
    "# 第一题\n",
    "a = 1\n",
    "for _ in range(9):\n",
    "    a = (a + 1) * 2\n",
    "a"
   ]
  },
  {
   "cell_type": "code",
   "execution_count": 6,
   "id": "5123b32f-df55-4e70-b79c-e00928b95495",
   "metadata": {},
   "outputs": [
    {
     "name": "stdout",
     "output_type": "stream",
     "text": [
      "   *   \n",
      "  ***  \n",
      " ***** \n",
      "*******\n",
      " ***** \n",
      "  ***  \n",
      "   *   \n"
     ]
    }
   ],
   "source": [
    "# 第二题\n",
    "a1 = '*'\n",
    "a2 = '***'\n",
    "a3 = '*****'\n",
    "a4 = '*******'\n",
    "print(a1.center(7))\n",
    "print(a2.center(7))\n",
    "print(a3.center(7))\n",
    "print(a4.center(7))\n",
    "print(a3.center(7))\n",
    "print(a2.center(7))\n",
    "print(a1.center(7))"
   ]
  },
  {
   "cell_type": "code",
   "execution_count": 34,
   "id": "1ea5e950-b775-4526-bed8-f8e2f593e1ae",
   "metadata": {},
   "outputs": [
    {
     "name": "stdin",
     "output_type": "stream",
     "text": [
      " 5462\n"
     ]
    },
    {
     "name": "stdout",
     "output_type": "stream",
     "text": [
      "2\n",
      "6\n",
      "4\n",
      "5\n"
     ]
    }
   ],
   "source": [
    "# 第三题\n",
    "a = int(input())\n",
    "b = 0\n",
    "while a // 10 != 0: \n",
    "    b = a%10\n",
    "    a = a // 10\n",
    "    print(b)\n",
    "    if a // 10 == 0:\n",
    "        print(a)\n"
   ]
  },
  {
   "cell_type": "code",
   "execution_count": 48,
   "id": "40844fc4-bcf0-4e11-a3f9-0edfce084daf",
   "metadata": {},
   "outputs": [
    {
     "name": "stdin",
     "output_type": "stream",
     "text": [
      " 12321\n"
     ]
    },
    {
     "name": "stdout",
     "output_type": "stream",
     "text": [
      "是回文数\n"
     ]
    }
   ],
   "source": [
    "# 第四题\n",
    "a = input()\n",
    "b = []\n",
    "for i in a:\n",
    "    b.append(i)\n",
    "if all(b[i] == b[len(b) - 1 - i] for i in range(len(b))):\n",
    "    print('是回文数')\n",
    "else:\n",
    "    print('不是')"
   ]
  },
  {
   "cell_type": "code",
   "execution_count": 68,
   "id": "f58bc7f3-9bc8-4f53-9292-a7021e9b9bcd",
   "metadata": {},
   "outputs": [
    {
     "name": "stdin",
     "output_type": "stream",
     "text": [
      " 1900\n"
     ]
    },
    {
     "name": "stdout",
     "output_type": "stream",
     "text": [
      "不是闰年\n"
     ]
    }
   ],
   "source": [
    "# 第五题\n",
    "year = int(input())\n",
    "if year % 100 == 0:\n",
    "    if (year // 100) % 4 == 0:\n",
    "        print('是闰年')\n",
    "    else:\n",
    "        print('不是闰年')\n",
    "else:\n",
    "    if year % 4 == 0:\n",
    "        print('是闰年')\n",
    "    else:\n",
    "        print('不是闰年')"
   ]
  },
  {
   "cell_type": "code",
   "execution_count": 2,
   "id": "fbe94860-14a9-4461-aa63-a1e1d558cad9",
   "metadata": {},
   "outputs": [
    {
     "name": "stdin",
     "output_type": "stream",
     "text": [
      "年:  2023\n",
      "月:  3\n",
      "日:  5\n"
     ]
    },
    {
     "name": "stdout",
     "output_type": "stream",
     "text": [
      "64\n"
     ]
    }
   ],
   "source": [
    "def isLeapYear(y):\n",
    "    return (y % 400 == 0 or (y % 4 == 0 and y % 100 != 0)) \n",
    "\n",
    "month_day = [0, 31, 28, 31, 30, 31, 30, 31, 31, 30, 31, 30] \n",
    "\n",
    "count = 0\n",
    "year = int(input('年: '))\n",
    "month = int(input('月: '))\n",
    "day = int(input('日: '))\n",
    "if isLeapYear(year):\n",
    "    month_day[2]  = 29\n",
    "for i in range(month):\n",
    "    count += month_day[i]\n",
    "print(count + day)"
   ]
  },
  {
   "cell_type": "code",
   "execution_count": null,
   "id": "cf87275c-4bd1-4e0c-bb96-ea1c6da2d93a",
   "metadata": {},
   "outputs": [],
   "source": []
  }
 ],
 "metadata": {
  "kernelspec": {
   "display_name": "Python 3 (ipykernel)",
   "language": "python",
   "name": "python3"
  },
  "language_info": {
   "codemirror_mode": {
    "name": "ipython",
    "version": 3
   },
   "file_extension": ".py",
   "mimetype": "text/x-python",
   "name": "python",
   "nbconvert_exporter": "python",
   "pygments_lexer": "ipython3",
   "version": "3.12.4"
  }
 },
 "nbformat": 4,
 "nbformat_minor": 5
}
