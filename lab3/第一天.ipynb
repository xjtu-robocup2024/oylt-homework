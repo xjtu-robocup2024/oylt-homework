{
 "cells": [
  {
   "cell_type": "markdown",
   "id": "fef7c426-6661-452d-bea3-b6f5eca07297",
   "metadata": {},
   "source": [
    "# 第一天"
   ]
  },
  {
   "cell_type": "code",
   "execution_count": 26,
   "id": "c8bb8f43-1623-4700-9ca3-284fe811de0c",
   "metadata": {},
   "outputs": [
    {
     "name": "stdout",
     "output_type": "stream",
     "text": [
      "24\n"
     ]
    }
   ],
   "source": [
    "## 第一题\n",
    "nums = []\n",
    "for i in range(1,5):\n",
    "    for j in range(1,5):\n",
    "        for k in range(1,5):\n",
    "            if i != j and i != k and j != k:\n",
    "                a = 100*i + 10*j + k\n",
    "                nums.append(a)\n",
    "print(len(nums))"
   ]
  },
  {
   "cell_type": "code",
   "execution_count": 56,
   "id": "e355be9a-c626-421a-89bf-03b7db505193",
   "metadata": {},
   "outputs": [
    {
     "name": "stdin",
     "output_type": "stream",
     "text": [
      " 16\n",
      " 15\n",
      " 14\n"
     ]
    },
    {
     "name": "stdout",
     "output_type": "stream",
     "text": [
      "[14, 15, 16]\n"
     ]
    }
   ],
   "source": [
    "## 第二题\n",
    "## 第一种\n",
    "x = eval(input(''))\n",
    "y = eval(input(''))\n",
    "z = eval(input(''))\n",
    "'''\n",
    "if z < y:\n",
    "    z,y = y,z\n",
    "if z < x:\n",
    "    z,x = x,z\n",
    "if x > y:\n",
    "    x,y = y,x\n",
    "print(x,y,z)\n",
    "'''\n",
    "## 第二种\n",
    "a = [x,y,z]\n",
    "for i in range(len(a)-1):\n",
    "    for j in range(len(a) - i -1):\n",
    "        if a[j] > a[j+1]:\n",
    "            q = a[j]\n",
    "            a[j] = a[j+1]\n",
    "            a[j+1] = q\n",
    "print(a)"
   ]
  },
  {
   "cell_type": "code",
   "execution_count": 60,
   "id": "1bd0e455-1005-44ca-a3ac-a875245f832b",
   "metadata": {},
   "outputs": [
    {
     "name": "stdout",
     "output_type": "stream",
     "text": [
      "[0, 1, 1, 2, 3, 5, 8, 13, 21, 34, 55, 89, 144, 233, 377, 610, 987, 1597, 2584, 4181]\n"
     ]
    }
   ],
   "source": [
    "## 第三题\n",
    "a = [0] * 20\n",
    "a[0] = 0\n",
    "a[1] = 1\n",
    "for i in range(18):\n",
    "    a[i+2] = a[i] + a[i+1]\n",
    "print(a)"
   ]
  },
  {
   "cell_type": "code",
   "execution_count": 72,
   "id": "aedfb816-04ac-4eaa-a907-2de1e3e07653",
   "metadata": {},
   "outputs": [
    {
     "name": "stdout",
     "output_type": "stream",
     "text": [
      "1*1=1 \n",
      "2*1=2 2*2=4 \n",
      "3*1=3 3*2=6 3*3=9 \n",
      "4*1=4 4*2=8 4*3=12 4*4=16 \n",
      "5*1=5 5*2=10 5*3=15 5*4=20 5*5=25 \n",
      "6*1=6 6*2=12 6*3=18 6*4=24 6*5=30 6*6=36 \n",
      "7*1=7 7*2=14 7*3=21 7*4=28 7*5=35 7*6=42 7*7=49 \n",
      "8*1=8 8*2=16 8*3=24 8*4=32 8*5=40 8*6=48 8*7=56 8*8=64 \n",
      "9*1=9 9*2=18 9*3=27 9*4=36 9*5=45 9*6=54 9*7=63 9*8=72 9*9=81 "
     ]
    }
   ],
   "source": [
    "##第四题\n",
    "for i in range(9):\n",
    "    if i > 0:\n",
    "        print(end = '\\n')\n",
    "    for j in range(i+1):\n",
    "        print(f'{i+1}*{j+1}={(i+1)*(j+1)}',end = ' ')"
   ]
  },
  {
   "cell_type": "code",
   "execution_count": null,
   "id": "25a5156c-7a67-48d4-98ee-f6489709e8db",
   "metadata": {},
   "outputs": [],
   "source": []
  }
 ],
 "metadata": {
  "kernelspec": {
   "display_name": "Python 3 (ipykernel)",
   "language": "python",
   "name": "python3"
  },
  "language_info": {
   "codemirror_mode": {
    "name": "ipython",
    "version": 3
   },
   "file_extension": ".py",
   "mimetype": "text/x-python",
   "name": "python",
   "nbconvert_exporter": "python",
   "pygments_lexer": "ipython3",
   "version": "3.12.4"
  }
 },
 "nbformat": 4,
 "nbformat_minor": 5
}
