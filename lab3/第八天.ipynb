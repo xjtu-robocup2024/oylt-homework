{
 "cells": [
  {
   "cell_type": "markdown",
   "id": "9e0d2731-e476-41b4-b43b-41f4ff2d54b5",
   "metadata": {},
   "source": [
    "# 第八天"
   ]
  },
  {
   "cell_type": "markdown",
   "id": "5d4f2448-64af-4b7e-b5ba-faf1db66e2e9",
   "metadata": {},
   "source": [
    "### 第一题\n"
   ]
  },
  {
   "cell_type": "markdown",
   "id": "5b0d0ff1-1765-4841-a5f8-1a0dea337124",
   "metadata": {},
   "source": [
    "##### TypeHint\n",
    "Type Hint 是 Python 3.6 版本引入的一种类型提示功能，它提供了一种标准的方式来注解函数的参数和返回值的类型。Type Hint 的主要作用包括：\n",
    "\n",
    "1 代码可读性增强：通过在函数定义中添加类型提示，可以更清晰地表明函数参数和返回值的预期类型，从而提高代码的可读性。\n",
    "\n",
    "2 静态类型检查：Type Hint 允许开发者使用静态类型检查工具（如mypy）来检查代码中的类型错误，这有助于在代码运行之前发现潜在的类型不匹配问题。\n",
    "\n",
    "3 IDE 和编辑器支持：Type Hint 可以被集成开发环境（IDE）和代码编辑器所利用，提供自动补全、类型检查和代码导航等功能，从而提高开发效率。\n",
    "\n",
    "4 代码维护：随着项目规模的扩大，Type Hint 可以帮助新加入项目的开发者更快地理解现有代码的预期行为，降低维护成本。\n",
    "\n",
    "5 类型注解的灵活性：Python 的 Type Hint 提供了丰富的类型注解选项，包括内置类型、泛型、联合类型、可选类型等，使得开发者可以灵活地表达复杂的类型关系。\n",
    "\n",
    "6 向后兼容性：Type Hint 是可选的，不会影响 Python 代码的运行时行为，这意味着可以在不改变现有代码逻辑的情况下添加类型提示，保持向后兼容性"
   ]
  },
  {
   "cell_type": "code",
   "execution_count": 5,
   "id": "07535afd-5a94-4229-b830-5776802a6599",
   "metadata": {},
   "outputs": [],
   "source": [
    "# 第二题略\n",
    "# 第三题\n",
    "import os\n",
    "dir_name = 'img'\n",
    "if not os.path.exists(dir_name):\n",
    "    os.makedirs(dir_name)\n",
    "os.chdir(dir_name)\n",
    "for i in range(1, 101):\n",
    "    file_name = f'X4G5_{i}.png'\n",
    "    with open(file_name, 'w') as f:\n",
    "        f.write('')  # 创建空文件"
   ]
  },
  {
   "cell_type": "code",
   "execution_count": null,
   "id": "898ced58-20cf-44ca-9a2e-70adbe749807",
   "metadata": {},
   "outputs": [],
   "source": []
  }
 ],
 "metadata": {
  "kernelspec": {
   "display_name": "Python 3 (ipykernel)",
   "language": "python",
   "name": "python3"
  },
  "language_info": {
   "codemirror_mode": {
    "name": "ipython",
    "version": 3
   },
   "file_extension": ".py",
   "mimetype": "text/x-python",
   "name": "python",
   "nbconvert_exporter": "python",
   "pygments_lexer": "ipython3",
   "version": "3.12.4"
  }
 },
 "nbformat": 4,
 "nbformat_minor": 5
}
