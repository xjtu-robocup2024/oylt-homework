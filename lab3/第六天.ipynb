{
 "cells": [
  {
   "cell_type": "markdown",
   "id": "530f47cc-0ba0-45a7-b1cc-4500da3086a9",
   "metadata": {},
   "source": [
    "# 第六天"
   ]
  },
  {
   "cell_type": "markdown",
   "id": "34e7032f-1ffb-4979-add6-e77573f93a13",
   "metadata": {},
   "source": [
    "# 第一题\n",
    "### 第一段代码\n",
    "a = 1, 2, 3, 4, 5 这行代码创建了一个包含五个元素的元组。\n",
    "\n",
    "b = 1,2 这行代码创建了一个包含两个元素的元组。\n",
    "\n",
    "print(f\"type(a)={type(a)}, type(b)={type(b)}\") 这行代码打印出变量 a 和 b 的类型，都是 <class 'tuple'>，因为它们都是元组。\n",
    "\n",
    "print(a) 打印元组 a 的内容，输出为 (1, 2, 3, 4, 5)。\n",
    "\n",
    "print(b == (1,2)) 比较元组 b 和 (1,2) 是否相等，输出为 True，因为它们包含相同的元素。\n",
    "\n",
    "### 第二段代码\n",
    "a = {} 创建了一个空字典 a。\n",
    "\n",
    "a[1] = 2 将键 1 和值 2 添加到字典 a 中。\n",
    "\n",
    "a[1,2] = 1 尝试将键 (1,2) 和值 1 添加到字典 a 中。这里 (1,2) 是一个元组，而在Python中，元组可以作为字典的键。\n",
    "\n",
    "print(a) 打印字典 a 的内容。此时字典 a 包含两个键值对：{1: 2, (1, 2): 1}。\n",
    "\n",
    "print(a[1,2]) 尝试打印键 (1,2) 对应的值，输出为 1。\n",
    "\n",
    "### 第三段代码\n",
    "a = [[1,2,3], [1,2,3]] 创建了一个包含两个子列表的列表 a，每个子列表都包含元素 [1, 2, 3]。\n",
    "\n",
    "print(a[1][2]) 访问列表 a 中的第二个子列表（索引为1）的第三个元素（索引为2）。因为列表的索引是从0开始的，所以 a[1] 指的是第二个子列表 [1, 2, 3]，而 a[1][2] 指的是这个子列表的第三个元素，即 3。\n",
    "\n",
    "print(a[1,2]) 这行代码尝试以元组 (1,2) 作为索引来访问列表 a 的元素。然而，在Python中，这种用法是错误的，因为列表不支持使用元组作为索引。正确的用法是使用单个整数作为索引来访问列表中的元素，或者使用切片语法来访问列表的子集。因此，这行代码会引发一个 TypeError。"
   ]
  },
  {
   "cell_type": "markdown",
   "id": "07cd6924-9e68-47be-a943-aa031088fd6e",
   "metadata": {},
   "source": [
    "# 第二题\n",
    "### 第一段代码\n",
    "a = (1,2,3,4) 创建了一个包含四个元素的元组。\n",
    "\n",
    "print(a) 打印元组 a 的内容，输出为 (1, 2, 3, 4)。\n",
    "\n",
    "print(*a) 使用 * 运算符将元组 a 的元素解包并打印，输出为 1 2 3 4。\n",
    "\n",
    "### 第二段代码\n",
    "a = (1,2,3) 创建了一个包含三个元素的元组。\n",
    "\n",
    "x, y, z = a 将元组 a 的元素解包到变量 x, y, z 中，输出为 1 2 3。\n",
    "\n",
    "使用 _ 和 * 来帮助进行元组解包，_ 表示忽略的值，*y 表示将剩余的元素收集到列表 y 中。\n",
    "\n",
    "### 第三段代码\n",
    "a = (1,2,3) 创建了一个包含三个元素的元组 a。\r\n",
    "\r\n",
    "x, y, _ = a 这行代码将元组 a 的元素解包到变量 x, y, 和 _ 中。这里 _ 是一个惯用的变量名，用来表示我们不关心的值。所以，x 会被赋值为 1，y 会被赋值为 2，而 _ 会被赋值为 3，但这个值不会被使用。\r\n",
    "\r\n",
    "x, _, __ = a 这行代码会引发一个 ValueError，因为在解包时左侧的变量数量与元组 a 中的元素数量不匹配。这里只有两个变量 x 和 _，但是元组 a 有三个元素。\r\n",
    "\r\n",
    "x, _, _ = a 这行代码同样会引发一个 ValueError，原因同上，左侧的变量数量与元组 a 中的元素数量不匹配。\r\n",
    "\r\n",
    "_, __, ___ = a 这行代码会引发一个 ValueError，因为在解包时左侧的变量数量与元组 a 中的元素数量不匹配。这里有三个变量 _, __, 和 ___，但是元组 a 只有三个元素，且没有足够的元素来填充这三个变量。\r\n",
    "\r\n",
    "x, *y = a 这行代码使用 * 运算符来收集元组 a 中除了第一个元素之外的所有元素到列表 y 中。这里 x 会被赋值为 1，而 y 会被赋值为列表 [2, 3]。\r\n",
    "\r\n",
    "x, *_ = a 这行代码使用 * 运算符来收集元组 a 中除了第一个元素之外的所有元素到一个名为 _ 的变量中。这里 x 会被赋值为 1，而 _ 会被赋\n",
    "值为列表 [2, 3]。\n",
    "### 第四段代码\n",
    "a, b = 1, 2 这行代码使用元组打包的特性，将值 1 和 2 分别赋给变量 a 和 b。\n",
    "\n",
    "print(a,b) 打印变量 a 和 b 的值。此时 a 的值为 1，b 的值为 2。\n",
    "\n",
    "b, a = a, b 这行代码使用了元组解包的特性来交换变量 a 和 b 的值。这里实际上是创建了一个临时的元组 (a, b)，然后将其解包，将 a 的值赋给 b，将 b 的值赋给 a。\n",
    "\n",
    "print(a,b) 再次打印变量 a 和 b 的值。此时 a 的值为 2，b 的值为 1。"
   ]
  },
  {
   "cell_type": "markdown",
   "id": "8cada158-0274-46f8-a816-8dc6f2b2661f",
   "metadata": {},
   "source": [
    "---"
   ]
  },
  {
   "cell_type": "markdown",
   "id": "036e38af-9b3c-4963-b998-f8b08e6edecf",
   "metadata": {},
   "source": [
    "# 第三题"
   ]
  },
  {
   "cell_type": "code",
   "execution_count": 66,
   "id": "ba119d15-0c30-4934-ab09-f34d1a9a0e31",
   "metadata": {},
   "outputs": [],
   "source": [
    "# 第三题\n",
    "class Person:\n",
    "    def __init__(self,name,age,gender):\n",
    "        self.name = name\n",
    "        self.age = age\n",
    "        self.gender = gender\n",
    "\n",
    "    def personInfo(self):\n",
    "        print(f'Name:{self.name},Age:{self.age},Gender:{self.gender}')\n",
    "        "
   ]
  },
  {
   "cell_type": "code",
   "execution_count": 68,
   "id": "486be6ab-4622-4584-b939-c8b92f3bf813",
   "metadata": {},
   "outputs": [],
   "source": [
    "class Student(Person):\n",
    "    def __init__(self, name, age, gender, college, class_):\n",
    "        super().__init__(name, age, gender)  # 调用父类的方法\n",
    "        self.college = college\n",
    "        self.class_ = class_\n",
    "\n",
    "    def personInfo(self):\n",
    "        super().personInfo()\n",
    "        print(f\"College: {self.college}, Class: {self.class_}\")"
   ]
  },
  {
   "cell_type": "code",
   "execution_count": 70,
   "id": "c41952f5-99d4-49bf-927f-98b0336aab56",
   "metadata": {},
   "outputs": [],
   "source": [
    "class Student(Person):\n",
    "    def __init__(self, name, age, gender, college, class_):\n",
    "        super().__init__(name, age, gender)  # 调用父类的方法\n",
    "        self.college = college\n",
    "        self.class_ = class_\n",
    "\n",
    "    def personInfo(self):\n",
    "        super().personInfo()\n",
    "        print(f\"College: {self.college}, Class: {self.class_}\")\n",
    "        \n",
    "    def __str__(self):\n",
    "        return f\"Student(Name: {self.name}, Age: {self.age}, Gender: {self.gender}, College: {self.college}, Class: {self.class_})\""
   ]
  },
  {
   "cell_type": "code",
   "execution_count": 72,
   "id": "0e45b658-e0fd-44eb-b781-2c8f6527a7b6",
   "metadata": {},
   "outputs": [
    {
     "name": "stdout",
     "output_type": "stream",
     "text": [
      "Name:a,Age:30,Gender:Male\n",
      "Name:a,Age:20,Gender:Female\n",
      "College: Engineering, Class: CS2301\n",
      "Student(Name: a, Age: 20, Gender: Female, College: Engineering, Class: CS2301)\n"
     ]
    }
   ],
   "source": [
    "# Person\n",
    "person = Person('a', 30, \"Male\")\n",
    "person.personInfo()\n",
    "\n",
    "# Student\n",
    "student = Student('a', 20, \"Female\", \"Engineering\", \"CS2301\")\n",
    "student.personInfo()\n",
    "\n",
    "# str\n",
    "print(student)"
   ]
  },
  {
   "cell_type": "code",
   "execution_count": null,
   "id": "2c12ea19-88ee-4eb4-9b76-8e28d648ffa1",
   "metadata": {},
   "outputs": [],
   "source": []
  }
 ],
 "metadata": {
  "kernelspec": {
   "display_name": "Python 3 (ipykernel)",
   "language": "python",
   "name": "python3"
  },
  "language_info": {
   "codemirror_mode": {
    "name": "ipython",
    "version": 3
   },
   "file_extension": ".py",
   "mimetype": "text/x-python",
   "name": "python",
   "nbconvert_exporter": "python",
   "pygments_lexer": "ipython3",
   "version": "3.12.4"
  }
 },
 "nbformat": 4,
 "nbformat_minor": 5
}
