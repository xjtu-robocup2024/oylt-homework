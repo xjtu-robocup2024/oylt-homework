{
 "cells": [
  {
   "cell_type": "markdown",
   "id": "3fd36e62-db29-4218-ad7c-62bfa4364732",
   "metadata": {},
   "source": [
    "# 第二天"
   ]
  },
  {
   "cell_type": "code",
   "execution_count": 20,
   "id": "778f961a-817a-47d6-9aa6-45690ccc2d79",
   "metadata": {},
   "outputs": [
    {
     "name": "stdin",
     "output_type": "stream",
     "text": [
      " xnqbxj 912 21\n"
     ]
    },
    {
     "data": {
      "text/plain": [
       "(6, 5, 2, 0)"
      ]
     },
     "execution_count": 20,
     "metadata": {},
     "output_type": "execute_result"
    }
   ],
   "source": [
    "# 第一题\n",
    "zfc = input()\n",
    "num_eng = 0\n",
    "num_space = 0\n",
    "num_num = 0\n",
    "num_other = 0\n",
    "for i in zfc:\n",
    "    if i.isalpha():\n",
    "        num_eng += 1;\n",
    "    elif i.isdigit():\n",
    "        num_num += 1;\n",
    "    elif i == ' ':\n",
    "        num_space += 1;\n",
    "    else:\n",
    "        num_other += 1\n",
    "num_eng,num_num,num_space,num_other"
   ]
  },
  {
   "cell_type": "code",
   "execution_count": 30,
   "id": "eeab84ff-063e-44ab-88e8-6d43adebe0ba",
   "metadata": {},
   "outputs": [
    {
     "name": "stdin",
     "output_type": "stream",
     "text": [
      "输入数字 5\n",
      "输入次数 5\n"
     ]
    },
    {
     "data": {
      "text/plain": [
       "61725"
      ]
     },
     "execution_count": 30,
     "metadata": {},
     "output_type": "execute_result"
    }
   ],
   "source": [
    "## 第二题\n",
    "import math\n",
    "a = int(input('输入数字'))\n",
    "n = int(input('输入次数'))\n",
    "ans = 0\n",
    "temp = 0\n",
    "for i in range(n):\n",
    "    temp += (10**i) * a\n",
    "    ans += temp\n",
    "ans"
   ]
  },
  {
   "cell_type": "code",
   "execution_count": 34,
   "id": "9e7e48f1-acc7-4459-9ce1-d0f6f45e209d",
   "metadata": {},
   "outputs": [
    {
     "name": "stdout",
     "output_type": "stream",
     "text": [
      "50.0\n",
      "25.0\n",
      "12.5\n",
      "6.25\n",
      "3.125\n",
      "1.5625\n",
      "0.78125\n",
      "0.390625\n",
      "0.1953125\n"
     ]
    },
    {
     "data": {
      "text/plain": [
       "299.609375"
      ]
     },
     "execution_count": 34,
     "metadata": {},
     "output_type": "execute_result"
    }
   ],
   "source": [
    "init = 100\n",
    "x = 100\n",
    "for _ in range(9):\n",
    "    init /= 2\n",
    "    x += 2*(init)\n",
    "    print(init)\n",
    "x"
   ]
  },
  {
   "cell_type": "code",
   "execution_count": 56,
   "id": "7e17a343-d0d5-4342-8dbc-e31a32453dff",
   "metadata": {},
   "outputs": [
    {
     "name": "stdout",
     "output_type": "stream",
     "text": [
      "153\n",
      "370\n",
      "371\n",
      "407\n"
     ]
    }
   ],
   "source": [
    "# 第四题\n",
    "for i in range(100,1000):\n",
    "    a = i % 10 # 个位\n",
    "    b = (i % 100) // 10 # 十位\n",
    "    c = i // 100 #百位\n",
    "    if a**3 + b**3 + c**3 == i:\n",
    "        print(i)"
   ]
  },
  {
   "cell_type": "code",
   "execution_count": 82,
   "id": "490e9f59-6361-4dda-8d10-cc1c3a1d8631",
   "metadata": {},
   "outputs": [
    {
     "name": "stdout",
     "output_type": "stream",
     "text": [
      "101\n",
      "103\n",
      "107\n",
      "109\n",
      "113\n",
      "127\n",
      "131\n",
      "137\n",
      "139\n",
      "149\n",
      "151\n",
      "157\n",
      "163\n",
      "167\n",
      "173\n",
      "179\n",
      "181\n",
      "191\n",
      "193\n",
      "197\n",
      "199\n"
     ]
    }
   ],
   "source": [
    "# 第五题\n",
    "import math\n",
    "for i in range(101,201):\n",
    "    if all(i % j != 0 for j in range(2,math.floor(math.sqrt(i)) + 1)):\n",
    "        print(i)"
   ]
  },
  {
   "cell_type": "code",
   "execution_count": null,
   "id": "336eff0f-4ffc-4971-81dd-79d53bbdf3f3",
   "metadata": {},
   "outputs": [],
   "source": []
  }
 ],
 "metadata": {
  "kernelspec": {
   "display_name": "Python 3 (ipykernel)",
   "language": "python",
   "name": "python3"
  },
  "language_info": {
   "codemirror_mode": {
    "name": "ipython",
    "version": 3
   },
   "file_extension": ".py",
   "mimetype": "text/x-python",
   "name": "python",
   "nbconvert_exporter": "python",
   "pygments_lexer": "ipython3",
   "version": "3.12.4"
  }
 },
 "nbformat": 4,
 "nbformat_minor": 5
}
