{
 "cells": [
  {
   "cell_type": "markdown",
   "id": "da103829-867f-41cc-a3a5-8fe06fd923c5",
   "metadata": {},
   "source": [
    "# 第七天"
   ]
  },
  {
   "cell_type": "code",
   "execution_count": 6,
   "id": "1ba50013-3336-4e74-aa4b-cfcc6e7fd1c1",
   "metadata": {},
   "outputs": [
    {
     "name": "stdout",
     "output_type": "stream",
     "text": [
      "第二列的最大值：87\n",
      "第二列的最小值：6\n",
      "第二列的平均值：46.40\n",
      "第二列的中位数：47.0\n"
     ]
    }
   ],
   "source": [
    "# 第一题\n",
    "import random\n",
    "import statistics\n",
    "\n",
    "data = [[random.randint(1, 100) for _ in range(3)] for _ in range(10)]\n",
    "data_str = '\\n'.join([','.join(map(str, row)) for row in data])\n",
    "\n",
    "with open('numbers.csv', 'w') as f:\n",
    "    f.write(data_str)\n",
    "sec_col = [row[1] for row in data]\n",
    "\n",
    "max_value = max(sec_col)\n",
    "min_value = min(sec_col)\n",
    "mean_value = statistics.mean(sec_col)\n",
    "median_value = statistics.median(sec_col)\n",
    "\n",
    "print(f\"第二列的最大值：{max_value}\")\n",
    "print(f\"第二列的最小值：{min_value}\")\n",
    "print(f\"第二列的平均值：{mean_value:.2f}\")\n",
    "print(f\"第二列的中位数：{median_value}\")"
   ]
  },
  {
   "cell_type": "code",
   "execution_count": 20,
   "id": "e8633181-978b-480d-b743-ca084f934dd1",
   "metadata": {},
   "outputs": [],
   "source": [
    "# 第二题\n",
    "i = 5\n",
    "ascii_char = [chr(x) for x in range(32,127)] # 非控制字符\n",
    "\n",
    "with open('test.txt' , 'w') as file:\n",
    "    for _ in range(i):\n",
    "        line = ''.join(random.choice(ascii_char) for _ in range(50))\n",
    "        file.write(line + '\\n')\n",
    "\n",
    "try:\n",
    "    with open('test.txt', 'r') as src_file:\n",
    "        with open('copy_test.txt' , 'w') as dst_file:\n",
    "            dst_file.write(src_file.read())\n",
    "except IOError as e:\n",
    "    print(e)\n",
    "    "
   ]
  },
  {
   "cell_type": "code",
   "execution_count": 22,
   "id": "b01e6362-9625-433f-9fa4-6e3a5eb85953",
   "metadata": {},
   "outputs": [],
   "source": [
    "# 第三题\n",
    "add_str = 'python'\n",
    "with open('test.txt', 'r') as file:\n",
    "    original_cont = file.read()\n",
    "\n",
    "with open('test.txt','r+') as file:\n",
    "    file.seek(0)\n",
    "    file.write(add_str + '\\n')\n",
    "    file.write(original_cont)\n",
    "    file.seek(0, 1)\n",
    "    file.write('\\n' + add_str)"
   ]
  },
  {
   "cell_type": "code",
   "execution_count": 34,
   "id": "e444ff1f-86bf-49d5-9bbf-b78e7a76a0b7",
   "metadata": {},
   "outputs": [
    {
     "name": "stdout",
     "output_type": "stream",
     "text": [
      "第1行不同\n",
      "第2行不同\n",
      "第3行不同\n",
      "第4行不同\n",
      "第5行不同\n",
      "文件 'test.txt' 比 'copy_test.txt' 多出 3 行。\n"
     ]
    }
   ],
   "source": [
    "# 第四题\n",
    "with open('test.txt', 'r') as file1, open('copy_test.txt', 'r') as file2:\n",
    "    lines1 = file1.readlines()\n",
    "    lines2 = file2.readlines()\n",
    "\n",
    "lines_num = 1 # 行数计数\n",
    "for line1,line2 in zip(lines1,lines2):\n",
    "    if line1.strip() != line2.strip(): #比较去除空白后的内容\n",
    "        print(f'第{lines_num}行不同')\n",
    "    lines_num += 1\n",
    "\n",
    "\n",
    "# 比较文件的不同长度\n",
    "if len(lines1) != len(lines2):\n",
    "    if len(lines1) > len(lines2):\n",
    "        print(f\"文件 'test.txt' 比 'copy_test.txt' 多出 {len(lines1) - len(lines2)} 行。\")\n",
    "    else:\n",
    "        print(f\"文件 'copy_test.txt' 比 'test.txt' 多出 {len(lines2) - len(lines1)} 行。\")"
   ]
  },
  {
   "cell_type": "code",
   "execution_count": 56,
   "id": "e9e20adb-e697-4ef0-a39d-a49728927a21",
   "metadata": {},
   "outputs": [
    {
     "name": "stdin",
     "output_type": "stream",
     "text": [
      "文件数量： 5\n",
      "文件行数： 5\n"
     ]
    }
   ],
   "source": [
    "# 第五题\n",
    "import os\n",
    "import random\n",
    "\n",
    "i = int(input(\"文件数量：\"))\n",
    "j = int(input(\"文件行数：\"))\n",
    "ascii_chars = [chr(x) for x in range(32, 127)]\n",
    "\n",
    "test_dir = 'test'\n",
    "os.makedirs(test_dir, exist_ok=True)\n",
    "\n",
    "for _ in range(i):\n",
    "    filename = f\"file_{_}.txt\"\n",
    "    filepath = os.path.join(test_dir, filename)\n",
    "    with open(filepath, 'w') as file:\n",
    "        for _ in range(j):\n",
    "            line = ''.join(random.choice(ascii_chars) for _ in range(20))  # 假设每行20个字符\n",
    "            file.write(line + '\\n')\n",
    "\n",
    "\n",
    "for filename in os.listdir(test_dir):\n",
    "    filepath = os.path.join(test_dir, filename)\n",
    "    if os.path.isfile(filepath):\n",
    "        new_filename = filename.replace(\".txt\", \"-python.txt\")\n",
    "        new_filepath = os.path.join(test_dir, new_filename)\n",
    "        os.rename(filepath, new_filepath)\n",
    "        \n",
    "        with open(new_filepath, 'r+') as file:\n",
    "            lines = file.readlines()\n",
    "            file.seek(0)\n",
    "            for line in lines:\n",
    "                file.write(line.strip() + \"-python\\n\")\n",
    "            file.truncate()  "
   ]
  },
  {
   "cell_type": "code",
   "execution_count": 58,
   "id": "b57a23f4-f394-4f3d-8fab-18e0f41d3e96",
   "metadata": {},
   "outputs": [],
   "source": [
    "# 第五题\n",
    "import os\n",
    "\n",
    "directory = 'test'\n",
    "\n",
    "for filename in os.listdir(directory):\n",
    "    filepath = os.path.join(directory, filename)\n",
    "    if os.path.isfile(filepath):\n",
    "        if 'python' in filename:\n",
    "            new_filename = filename.replace('python', 'class')\n",
    "            new_filepath = os.path.join(directory, new_filename)\n",
    "            os.rename(filepath, new_filepath)\n",
    "\n",
    "        with open(new_filepath, 'r', encoding='utf-8') as file:\n",
    "            content = file.read()\n",
    "\n",
    "        if 'python' in content:\n",
    "            new_content = content.replace('python', 'class')\n",
    "            with open(new_filepath, 'w', encoding='utf-8') as file:\n",
    "                file.write(new_content)"
   ]
  },
  {
   "cell_type": "code",
   "execution_count": null,
   "id": "5351a082-a47b-4dfb-9f46-506de702be93",
   "metadata": {},
   "outputs": [],
   "source": []
  }
 ],
 "metadata": {
  "kernelspec": {
   "display_name": "Python 3 (ipykernel)",
   "language": "python",
   "name": "python3"
  },
  "language_info": {
   "codemirror_mode": {
    "name": "ipython",
    "version": 3
   },
   "file_extension": ".py",
   "mimetype": "text/x-python",
   "name": "python",
   "nbconvert_exporter": "python",
   "pygments_lexer": "ipython3",
   "version": "3.12.4"
  }
 },
 "nbformat": 4,
 "nbformat_minor": 5
}
