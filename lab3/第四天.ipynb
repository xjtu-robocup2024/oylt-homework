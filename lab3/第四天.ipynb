{
 "cells": [
  {
   "cell_type": "markdown",
   "id": "73e98756-e819-4bdb-82e6-ed8d7040769a",
   "metadata": {},
   "source": [
    "# 第四天"
   ]
  },
  {
   "cell_type": "code",
   "execution_count": 17,
   "id": "19dc1d73-2538-44e3-8fb3-08ab3bc4fb15",
   "metadata": {},
   "outputs": [
    {
     "name": "stdout",
     "output_type": "stream",
     "text": [
      "1,2,3,4,5\n"
     ]
    }
   ],
   "source": [
    "# 第一题\n",
    "a = [1,2,3,4,5]\n",
    "b = ','.join(map(str,a))\n",
    "print(b)"
   ]
  },
  {
   "cell_type": "code",
   "execution_count": 43,
   "id": "7cf0cc13-01d2-4143-9f36-b6942d6ccc2b",
   "metadata": {},
   "outputs": [
    {
     "name": "stdin",
     "output_type": "stream",
     "text": [
      " 3\n"
     ]
    },
    {
     "name": "stdout",
     "output_type": "stream",
     "text": [
      "[1, 2, 3, 3, 4, 5]\n"
     ]
    }
   ],
   "source": [
    "# 第二题\n",
    "a = [1,2,3,4,5]\n",
    "b = int(input())\n",
    "a.append(b)\n",
    "for i in range(len(a) - 2, -1, -1):\n",
    "    if a[i+1] < a[i]:\n",
    "        a[i+1],a[i] = a[i],a[i+1]\n",
    "print(a)"
   ]
  },
  {
   "cell_type": "code",
   "execution_count": 61,
   "id": "e326e274-493f-4556-99b7-27f75eb9cd5f",
   "metadata": {},
   "outputs": [
    {
     "name": "stdout",
     "output_type": "stream",
     "text": [
      "[[17. 15.  4.]\n",
      " [10. 12.  9.]\n",
      " [11. 13. 18.]]\n"
     ]
    },
    {
     "data": {
      "text/plain": [
       "array([[17, 15,  4],\n",
       "       [10, 12,  9],\n",
       "       [11, 13, 18]])"
      ]
     },
     "execution_count": 61,
     "metadata": {},
     "output_type": "execute_result"
    }
   ],
   "source": [
    "# 第三题\n",
    "import numpy as np\n",
    "X = np.array([[12,7,3],[4,5,6],[7,8,9]])\n",
    "Y = np.array([[5,8,1],[6,7,3],[4,5,9]])\n",
    "sum = np.zeros(X.shape)\n",
    "for i in range(X.shape[0]):\n",
    "    for j in range(X.shape[1]):\n",
    "        sum[i][j] = X[i][j] + Y[i][j]\n",
    "print(sum)\n",
    "X + Y"
   ]
  },
  {
   "cell_type": "code",
   "execution_count": 67,
   "id": "86b2136f-d55a-4b19-9c5a-9d661e9276dd",
   "metadata": {},
   "outputs": [
    {
     "name": "stdin",
     "output_type": "stream",
     "text": [
      " 2\n"
     ]
    },
    {
     "data": {
      "text/plain": [
       "[4, 5, 1, 2, 3]"
      ]
     },
     "execution_count": 67,
     "metadata": {},
     "output_type": "execute_result"
    }
   ],
   "source": [
    "# 第四题\n",
    "a = [1,2,3,4,5]\n",
    "m = int(input())\n",
    "for _ in range(m):\n",
    "    b = a.pop()\n",
    "    a.insert(0,b)\n",
    "a"
   ]
  },
  {
   "cell_type": "code",
   "execution_count": 8,
   "id": "618ada46-6a4f-4d4d-bcd4-315642c78cf8",
   "metadata": {},
   "outputs": [
    {
     "data": {
      "text/plain": [
       "'\\ndict = {\\n(1,1):0,\\n(2,2):1,\\n(3,3):2\\n}\\ndict = {\\n[1,1]:0,\\n[2,2]:1,\\n[3,3]:2\\n}\\n\\ndict = {\\n{1,1}:0,\\n{2,2}:1,\\n{3,3}:2\\n}\\n\\nprint(dict ) \\nprint(dict ) \\nprint(dict )\\n'"
      ]
     },
     "execution_count": 8,
     "metadata": {},
     "output_type": "execute_result"
    }
   ],
   "source": [
    "# 第五题\n",
    "# Python中的变量有可变与不可变两种类型，请查找什么是可变（mutable）的、什么是不可变（immutable）的。并根据查到的资料，找到下⾯的代码为什么会报错\n",
    "'''\n",
    "dict = {\n",
    "(1,1):0,\n",
    "(2,2):1,\n",
    "(3,3):2\n",
    "}\n",
    "dict = {\n",
    "[1,1]:0,\n",
    "[2,2]:1,\n",
    "[3,3]:2\n",
    "}\n",
    "\n",
    "dict = {\n",
    "{1,1}:0,\n",
    "{2,2}:1,\n",
    "{3,3}:2\n",
    "}\n",
    "\n",
    "print(dict ) \n",
    "print(dict ) \n",
    "print(dict )\n",
    "'''\n",
    "# 在Python中，变量的类型分为可变（mutable）和不可变（immutable）两种：\n",
    "#不可变（immutable）类型：一旦创建，其值不能被改变。Python中的整数（int）、浮点数（float）、字符串（str）、元组（tuple）等都是不可变类型。对于不可变类型，如果你尝试改变它的值，实际上Python会创建一个新的对象，并将变量指向这个新对象。\n",
    "#可变（mutable）类型：其值可以被改变。Python中的列表（list）、字典（dict）、集合（set）等都是可变类型。对于可变类型，你可以改变其内容而不需要创建新的对象。\n",
    "# 字典使用的键需要不可变变量，在第一个字典中使用了元组是不可变的，第二个和第三个使用的是列表和集合都是可变的变量，不能作为字典的键"
   ]
  },
  {
   "cell_type": "code",
   "execution_count": 52,
   "id": "86ff2205-26d4-4005-9adb-3a6855386632",
   "metadata": {},
   "outputs": [
    {
     "name": "stdout",
     "output_type": "stream",
     "text": [
      "[0, 2, 4, 6, 8, 10, 12, 14, 16, 18, 20, 22, 24, 26, 28, 30, 32, 34, 36, 38, 40, 42, 44, 46, 48, 50, 52, 54, 56, 58, 60, 62, 64, 66, 68, 70, 72, 74, 76, 78, 80, 82, 84, 86, 88, 90, 92, 94, 96, 98, 100, 102, 104, 106, 108, 110, 112, 114, 116, 118, 120, 122, 124, 126, 128, 130, 132, 134, 136, 138, 140, 142, 144, 146, 148, 150, 152, 154, 156, 158, 160, 162, 164, 166, 168, 170, 172, 174, 176, 178, 180, 182, 184, 186, 188, 190, 192, 194, 196, 198, 200, 202, 204, 206, 208, 210, 212, 214, 216, 218, 220, 222, 224, 226, 228, 230, 232, 234, 236, 238, 240, 242, 244, 246, 248, 250, 252, 254, 256, 258, 260, 262, 264, 266, 268, 270, 272, 274, 276, 278, 280, 282, 284, 286, 288, 290, 292, 294, 296, 298, 300, 302, 304, 306, 308, 310, 312, 314, 316, 318, 320, 322, 324, 326, 328, 330, 332, 334, 336, 338, 340, 342, 344, 346, 348, 350, 352, 354, 356, 358, 360, 362, 364, 366, 368, 370, 372, 374, 376, 378, 380, 382, 384, 386, 388, 390, 392, 394, 396, 398, 400, 402, 404, 406, 408, 410, 412, 414, 416, 418, 420, 422, 424, 426, 428, 430, 432, 434, 436, 438, 440, 442, 444, 446, 448, 450, 452, 454, 456, 458, 460, 462, 464, 466, 468, 470, 472, 474, 476, 478, 480, 482, 484, 486, 488, 490, 492, 494, 496, 498, 500, 502, 504, 506, 508, 510, 512, 514, 516, 518, 520, 522, 524, 526, 528, 530, 532, 534, 536, 538, 540, 542, 544, 546, 548, 550, 552, 554, 556, 558, 560, 562, 564, 566, 568, 570, 572, 574, 576, 578, 580, 582, 584, 586, 588, 590, 592, 594, 596, 598, 600, 602, 604, 606, 608, 610, 612, 614, 616, 618, 620, 622, 624, 626, 628, 630, 632, 634, 636, 638, 640, 642, 644, 646, 648, 650, 652, 654, 656, 658, 660, 662, 664, 666, 668, 670, 672, 674, 676, 678, 680, 682, 684, 686, 688, 690, 692, 694, 696, 698, 700, 702, 704, 706, 708, 710, 712, 714, 716, 718, 720, 722, 724, 726, 728, 730, 732, 734, 736, 738, 740, 742, 744, 746, 748, 750, 752, 754, 756, 758, 760, 762, 764, 766, 768, 770, 772, 774, 776, 778, 780, 782, 784, 786, 788, 790, 792, 794, 796, 798, 800, 802, 804, 806, 808, 810, 812, 814, 816, 818, 820, 822, 824, 826, 828, 830, 832, 834, 836, 838, 840, 842, 844, 846, 848, 850, 852, 854, 856, 858, 860, 862, 864, 866, 868, 870, 872, 874, 876, 878, 880, 882, 884, 886, 888, 890, 892, 894, 896, 898, 900, 902, 904, 906, 908, 910, 912, 914, 916, 918, 920, 922, 924, 926, 928, 930, 932, 934, 936, 938, 940, 942, 944, 946, 948, 950, 952, 954, 956, 958, 960, 962, 964, 966, 968, 970, 972, 974, 976, 978, 980, 982, 984, 986, 988, 990, 992, 994, 996, 998]\n"
     ]
    }
   ],
   "source": [
    "# 第六题\n",
    "'''\n",
    "if __name__ == \"__main__\":\n",
    "    list = list(range(1000))\n",
    "    for idx in range(len(list)):\n",
    "        if list[idx] % 2 == 1:\n",
    "            list.pop(idx)\n",
    "    print(list)\n",
    "'''\n",
    "# 问题:当使用 list.pop(idx) 删除元素时，列表的大小会改变，这会影响到后续的索引值。\n",
    "# 同时list作为变量名容易冲突\n",
    "del list # 删除之前对于list的系列操作\n",
    "if __name__ == \"__main__\":\n",
    "    numbers = list(range(0,1000,1))  # 将 range 转换为列表\n",
    "    for idx in range(len(numbers) - 1, -1, -1):  # 从末尾向前遍历\n",
    "        if numbers[idx] % 2 == 1:  # 如果是奇数，删除该元素\n",
    "            numbers.pop(idx)\n",
    "    print(numbers)  # 输出没有奇数的列表"
   ]
  },
  {
   "cell_type": "code",
   "execution_count": 83,
   "id": "8a9e49f7-0dca-4eef-972e-446cd1d4644e",
   "metadata": {},
   "outputs": [
    {
     "name": "stdout",
     "output_type": "stream",
     "text": [
      "n=233,m=3的约瑟夫序列的最后一个数字为:227\n"
     ]
    }
   ],
   "source": [
    "# 第七题\n",
    "class Ren:  # 节点类型\n",
    "    def __init__(self, nol):\n",
    "        self.no = nol  # 节点序号\n",
    "        self.next = None\n",
    "\n",
    "\n",
    "class Joseph:\n",
    "    def __init__(self, n1, m1):\n",
    "        self.n = n1\n",
    "        self.m = m1\n",
    "        self.first = Ren(1)  \n",
    "        t = self.first\n",
    "        for i in range(2, self.n + 1):\n",
    "            p = Ren(i)\n",
    "            t.next = p\n",
    "            t = p\n",
    "        t.next = self.first  \n",
    "\n",
    "    def Jsequence(self):  # 求约瑟夫序列\n",
    "        record = []\n",
    "        for i in range(1, self.n + 1):\n",
    "            p = self.first\n",
    "            j = 1\n",
    "            while j < self.m - 1:\n",
    "                j += 1\n",
    "                p = p.next\n",
    "            q = p.next\n",
    "            record = [record, q.no]\n",
    "            p.next = q.next\n",
    "            self.first = p.next\n",
    "        print(record[-1])\n",
    "        return record\n",
    "\n",
    "if __name__ == \"__main__\":\n",
    "    m = 3\n",
    "    n = 233\n",
    "    L = Joseph(n, m)\n",
    "    print(\"n=%d,m=%d的约瑟夫序列的最后一个数字为:\" % (n, m), end='')\n",
    "    try:\n",
    "        L.Jsequence()\n",
    "    except:\n",
    "        IndexError(print('no'))"
   ]
  },
  {
   "cell_type": "code",
   "execution_count": null,
   "id": "a7de08b7-b696-4461-af49-c38d2dbd02aa",
   "metadata": {},
   "outputs": [],
   "source": []
  }
 ],
 "metadata": {
  "kernelspec": {
   "display_name": "Python 3 (ipykernel)",
   "language": "python",
   "name": "python3"
  },
  "language_info": {
   "codemirror_mode": {
    "name": "ipython",
    "version": 3
   },
   "file_extension": ".py",
   "mimetype": "text/x-python",
   "name": "python",
   "nbconvert_exporter": "python",
   "pygments_lexer": "ipython3",
   "version": "3.12.4"
  }
 },
 "nbformat": 4,
 "nbformat_minor": 5
}
