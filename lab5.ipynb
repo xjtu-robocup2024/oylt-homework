{
 "cells": [
  {
   "metadata": {},
   "cell_type": "markdown",
   "source": "# 手写数字识别",
   "id": "18c4be5d3ada9356"
  },
  {
   "cell_type": "code",
   "id": "initial_id",
   "metadata": {
    "collapsed": true,
    "ExecuteTime": {
     "end_time": "2024-12-12T09:04:55.096639Z",
     "start_time": "2024-12-12T09:04:55.091864Z"
    }
   },
   "source": [
    "import torch\n",
    "from torchvision import datasets\n",
    "from torchvision import transforms\n",
    "import torch.nn as nn\n",
    "import torch.optim as optim"
   ],
   "outputs": [],
   "execution_count": 2
  },
  {
   "metadata": {
    "ExecuteTime": {
     "end_time": "2024-12-12T09:05:58.608191Z",
     "start_time": "2024-12-12T09:05:37.455419Z"
    }
   },
   "cell_type": "code",
   "source": [
    "train_data = datasets.MNIST(root=\"data/mnist\",train=True,transform=transforms.ToTensor(),download=True)\n",
    "test_data = datasets.MNIST(root=\"data/mnist\",train=False,transform=transforms.ToTensor(),download=True)"
   ],
   "id": "20e358f5c0ec3ba",
   "outputs": [
    {
     "name": "stdout",
     "output_type": "stream",
     "text": [
      "Downloading http://yann.lecun.com/exdb/mnist/train-images-idx3-ubyte.gz\n",
      "Failed to download (trying next):\n",
      "HTTP Error 403: Forbidden\n",
      "\n",
      "Downloading https://ossci-datasets.s3.amazonaws.com/mnist/train-images-idx3-ubyte.gz\n",
      "Downloading https://ossci-datasets.s3.amazonaws.com/mnist/train-images-idx3-ubyte.gz to data/mnist\\MNIST\\raw\\train-images-idx3-ubyte.gz\n"
     ]
    },
    {
     "name": "stderr",
     "output_type": "stream",
     "text": [
      "100.0%\n"
     ]
    },
    {
     "name": "stdout",
     "output_type": "stream",
     "text": [
      "Extracting data/mnist\\MNIST\\raw\\train-images-idx3-ubyte.gz to data/mnist\\MNIST\\raw\n",
      "\n",
      "Downloading http://yann.lecun.com/exdb/mnist/train-labels-idx1-ubyte.gz\n",
      "Failed to download (trying next):\n",
      "HTTP Error 403: Forbidden\n",
      "\n",
      "Downloading https://ossci-datasets.s3.amazonaws.com/mnist/train-labels-idx1-ubyte.gz\n",
      "Downloading https://ossci-datasets.s3.amazonaws.com/mnist/train-labels-idx1-ubyte.gz to data/mnist\\MNIST\\raw\\train-labels-idx1-ubyte.gz\n"
     ]
    },
    {
     "name": "stderr",
     "output_type": "stream",
     "text": [
      "100.0%\n"
     ]
    },
    {
     "name": "stdout",
     "output_type": "stream",
     "text": [
      "Extracting data/mnist\\MNIST\\raw\\train-labels-idx1-ubyte.gz to data/mnist\\MNIST\\raw\n",
      "\n",
      "Downloading http://yann.lecun.com/exdb/mnist/t10k-images-idx3-ubyte.gz\n",
      "Failed to download (trying next):\n",
      "HTTP Error 403: Forbidden\n",
      "\n",
      "Downloading https://ossci-datasets.s3.amazonaws.com/mnist/t10k-images-idx3-ubyte.gz\n",
      "Downloading https://ossci-datasets.s3.amazonaws.com/mnist/t10k-images-idx3-ubyte.gz to data/mnist\\MNIST\\raw\\t10k-images-idx3-ubyte.gz\n"
     ]
    },
    {
     "name": "stderr",
     "output_type": "stream",
     "text": [
      "100.0%\n"
     ]
    },
    {
     "name": "stdout",
     "output_type": "stream",
     "text": [
      "Extracting data/mnist\\MNIST\\raw\\t10k-images-idx3-ubyte.gz to data/mnist\\MNIST\\raw\n",
      "\n",
      "Downloading http://yann.lecun.com/exdb/mnist/t10k-labels-idx1-ubyte.gz\n",
      "Failed to download (trying next):\n",
      "HTTP Error 403: Forbidden\n",
      "\n",
      "Downloading https://ossci-datasets.s3.amazonaws.com/mnist/t10k-labels-idx1-ubyte.gz\n",
      "Downloading https://ossci-datasets.s3.amazonaws.com/mnist/t10k-labels-idx1-ubyte.gz to data/mnist\\MNIST\\raw\\t10k-labels-idx1-ubyte.gz\n"
     ]
    },
    {
     "name": "stderr",
     "output_type": "stream",
     "text": [
      "100.0%"
     ]
    },
    {
     "name": "stdout",
     "output_type": "stream",
     "text": [
      "Extracting data/mnist\\MNIST\\raw\\t10k-labels-idx1-ubyte.gz to data/mnist\\MNIST\\raw\n",
      "\n"
     ]
    },
    {
     "name": "stderr",
     "output_type": "stream",
     "text": [
      "\n"
     ]
    }
   ],
   "execution_count": 3
  },
  {
   "metadata": {
    "ExecuteTime": {
     "end_time": "2024-12-12T09:06:04.467635Z",
     "start_time": "2024-12-12T09:06:04.463731Z"
    }
   },
   "cell_type": "code",
   "source": [
    "batch_size = 100\n",
    "train_loader = torch.utils.data.DataLoader(dataset=train_data,batch_size=batch_size,shuffle=True)\n",
    "test_loader = torch.utils.data.DataLoader(dataset=test_data,batch_size=batch_size,shuffle=False)"
   ],
   "id": "667276cf9140eb54",
   "outputs": [],
   "execution_count": 4
  },
  {
   "metadata": {
    "ExecuteTime": {
     "end_time": "2024-12-12T09:06:13.914113Z",
     "start_time": "2024-12-12T09:06:13.898098Z"
    }
   },
   "cell_type": "code",
   "source": [
    "# 定义 MLP 网络  继承nn.Module\n",
    "class MLP(nn.Module):\n",
    "\n",
    "    # 初始化方法\n",
    "    # input_size输入数据的维度\n",
    "    # hidden_size 隐藏层的大小\n",
    "    # num_classes 输出分类的数量\n",
    "    def __init__(self, input_size, hidden_size, num_classes):\n",
    "        # 调用父类的初始化方法\n",
    "        super(MLP, self).__init__()\n",
    "        # 定义第1个全连接层\n",
    "        self.fc1 = nn.Linear(input_size, hidden_size)\n",
    "        # 定义激活函数\n",
    "        self.relu = nn.ReLU()\n",
    "        # 定义第2个全连接层\n",
    "        self.fc2 = nn.Linear(hidden_size, hidden_size)\n",
    "        # 定义第3个全连接层\n",
    "        self.fc3 = nn.Linear(hidden_size, num_classes)\n",
    "\n",
    "    # 定义forward函数\n",
    "    # x 输入的数据\n",
    "    def forward(self, x):\n",
    "        # 第一层运算\n",
    "        out = self.fc1(x)\n",
    "        # 将上一步结果送给激活函数\n",
    "        out = self.relu(out)\n",
    "        # 将上一步结果送给fc2\n",
    "        out = self.fc2(out)\n",
    "        # 同样将结果送给激活函数\n",
    "        out = self.relu(out)\n",
    "        # 将上一步结果传递给fc3\n",
    "        out = self.fc3(out)\n",
    "        # 返回结果\n",
    "        return out\n",
    "\n",
    "# 定义参数\n",
    "input_size = 28 * 28  # 输入大小\n",
    "hidden_size = 512  # 隐藏层大小\n",
    "num_classes = 10  # 输出大小（类别数）\n",
    "\n",
    "# 初始化MLP\n",
    "model = MLP(input_size, hidden_size, num_classes)"
   ],
   "id": "8f5d0387f1b99fc8",
   "outputs": [],
   "execution_count": 5
  },
  {
   "metadata": {
    "ExecuteTime": {
     "end_time": "2024-12-12T09:06:35.366747Z",
     "start_time": "2024-12-12T09:06:35.363723Z"
    }
   },
   "cell_type": "code",
   "source": "criterion = nn.CrossEntropyLoss()",
   "id": "1e92c1ea5bbc6658",
   "outputs": [],
   "execution_count": 7
  },
  {
   "metadata": {
    "ExecuteTime": {
     "end_time": "2024-12-12T09:06:38.546580Z",
     "start_time": "2024-12-12T09:06:38.542570Z"
    }
   },
   "cell_type": "code",
   "source": [
    "learning_rate = 0.001 # 学习率\n",
    "optimizer = optim.Adam(model.parameters(),lr=learning_rate)"
   ],
   "id": "973535041783734a",
   "outputs": [],
   "execution_count": 8
  },
  {
   "metadata": {
    "ExecuteTime": {
     "end_time": "2024-12-12T09:08:04.412225Z",
     "start_time": "2024-12-12T09:06:46.338757Z"
    }
   },
   "cell_type": "code",
   "source": [
    "# 训练网络\n",
    "\n",
    "num_epochs = 10 # 训练轮数\n",
    "for epoch in range(num_epochs):\n",
    "    for i, (images, labels) in enumerate(train_loader):\n",
    "        # 将iamges转成向量\n",
    "        images = images.reshape(-1, 28 * 28)\n",
    "        # 将数据送到网络中\n",
    "        outputs = model(images)\n",
    "        # 计算损失\n",
    "        loss = criterion(outputs, labels)\n",
    "\n",
    "        # 首先将梯度清零\n",
    "        optimizer.zero_grad()\n",
    "        # 反向传播\n",
    "        loss.backward()\n",
    "        # 更新参数\n",
    "        optimizer.step()\n",
    "\n",
    "        if (i + 1) % 100 == 0:\n",
    "            print(f'Epoch [{epoch+1}/{num_epochs}], Step [{i+1}/{len(train_loader)}], Loss: {loss.item():.4f}')"
   ],
   "id": "4f9fff5a8db45350",
   "outputs": [
    {
     "name": "stdout",
     "output_type": "stream",
     "text": [
      "Epoch [1/10], Step [100/600], Loss: 0.3342\n",
      "Epoch [1/10], Step [200/600], Loss: 0.1895\n",
      "Epoch [1/10], Step [300/600], Loss: 0.1172\n",
      "Epoch [1/10], Step [400/600], Loss: 0.1185\n",
      "Epoch [1/10], Step [500/600], Loss: 0.1226\n",
      "Epoch [1/10], Step [600/600], Loss: 0.0599\n",
      "Epoch [2/10], Step [100/600], Loss: 0.0669\n",
      "Epoch [2/10], Step [200/600], Loss: 0.1157\n",
      "Epoch [2/10], Step [300/600], Loss: 0.0655\n",
      "Epoch [2/10], Step [400/600], Loss: 0.0614\n",
      "Epoch [2/10], Step [500/600], Loss: 0.0314\n",
      "Epoch [2/10], Step [600/600], Loss: 0.1237\n",
      "Epoch [3/10], Step [100/600], Loss: 0.0359\n",
      "Epoch [3/10], Step [200/600], Loss: 0.0358\n",
      "Epoch [3/10], Step [300/600], Loss: 0.1102\n",
      "Epoch [3/10], Step [400/600], Loss: 0.0536\n",
      "Epoch [3/10], Step [500/600], Loss: 0.1412\n",
      "Epoch [3/10], Step [600/600], Loss: 0.0660\n",
      "Epoch [4/10], Step [100/600], Loss: 0.0389\n",
      "Epoch [4/10], Step [200/600], Loss: 0.0213\n",
      "Epoch [4/10], Step [300/600], Loss: 0.0666\n",
      "Epoch [4/10], Step [400/600], Loss: 0.1396\n",
      "Epoch [4/10], Step [500/600], Loss: 0.0190\n",
      "Epoch [4/10], Step [600/600], Loss: 0.0882\n",
      "Epoch [5/10], Step [100/600], Loss: 0.0051\n",
      "Epoch [5/10], Step [200/600], Loss: 0.0205\n",
      "Epoch [5/10], Step [300/600], Loss: 0.0593\n",
      "Epoch [5/10], Step [400/600], Loss: 0.0499\n",
      "Epoch [5/10], Step [500/600], Loss: 0.0710\n",
      "Epoch [5/10], Step [600/600], Loss: 0.0338\n",
      "Epoch [6/10], Step [100/600], Loss: 0.0030\n",
      "Epoch [6/10], Step [200/600], Loss: 0.0410\n",
      "Epoch [6/10], Step [300/600], Loss: 0.0221\n",
      "Epoch [6/10], Step [400/600], Loss: 0.0023\n",
      "Epoch [6/10], Step [500/600], Loss: 0.0030\n",
      "Epoch [6/10], Step [600/600], Loss: 0.0056\n",
      "Epoch [7/10], Step [100/600], Loss: 0.0185\n",
      "Epoch [7/10], Step [200/600], Loss: 0.0104\n",
      "Epoch [7/10], Step [300/600], Loss: 0.0063\n",
      "Epoch [7/10], Step [400/600], Loss: 0.1183\n",
      "Epoch [7/10], Step [500/600], Loss: 0.0065\n",
      "Epoch [7/10], Step [600/600], Loss: 0.0166\n",
      "Epoch [8/10], Step [100/600], Loss: 0.0060\n",
      "Epoch [8/10], Step [200/600], Loss: 0.0102\n",
      "Epoch [8/10], Step [300/600], Loss: 0.0282\n",
      "Epoch [8/10], Step [400/600], Loss: 0.0049\n",
      "Epoch [8/10], Step [500/600], Loss: 0.0145\n",
      "Epoch [8/10], Step [600/600], Loss: 0.0039\n",
      "Epoch [9/10], Step [100/600], Loss: 0.0078\n",
      "Epoch [9/10], Step [200/600], Loss: 0.0398\n",
      "Epoch [9/10], Step [300/600], Loss: 0.0029\n",
      "Epoch [9/10], Step [400/600], Loss: 0.0226\n",
      "Epoch [9/10], Step [500/600], Loss: 0.0264\n",
      "Epoch [9/10], Step [600/600], Loss: 0.0400\n",
      "Epoch [10/10], Step [100/600], Loss: 0.0229\n",
      "Epoch [10/10], Step [200/600], Loss: 0.0080\n",
      "Epoch [10/10], Step [300/600], Loss: 0.0259\n",
      "Epoch [10/10], Step [400/600], Loss: 0.0087\n",
      "Epoch [10/10], Step [500/600], Loss: 0.0017\n",
      "Epoch [10/10], Step [600/600], Loss: 0.0057\n"
     ]
    }
   ],
   "execution_count": 9
  },
  {
   "metadata": {
    "ExecuteTime": {
     "end_time": "2024-12-12T09:08:05.048327Z",
     "start_time": "2024-12-12T09:08:04.488162Z"
    }
   },
   "cell_type": "code",
   "source": [
    "# 测试网络\n",
    "with torch.no_grad():\n",
    "    correct = 0\n",
    "    total = 0\n",
    "    # 从 test_loader中循环读取测试数据\n",
    "    for images, labels in test_loader:\n",
    "        # 将images转成向量\n",
    "        images = images.reshape(-1, 28 * 28)\n",
    "        # 将数据送给网络\n",
    "        outputs = model(images)\n",
    "        # 取出最大值对应的索引  即预测值\n",
    "        _, predicted = torch.max(outputs.data, 1)\n",
    "        # 累加label数\n",
    "        total += labels.size(0)\n",
    "        # 预测值与labels值比对 获取预测正确的数量\n",
    "        correct += (predicted == labels).sum().item()\n",
    "    # 打印最终的准确率\n",
    "    print(f'Accuracy of the network on the 10000 test images: {100 * correct / total} %')"
   ],
   "id": "7157d5c6671dbe4",
   "outputs": [
    {
     "name": "stdout",
     "output_type": "stream",
     "text": [
      "Accuracy of the network on the 10000 test images: 98.04 %\n"
     ]
    }
   ],
   "execution_count": 10
  },
  {
   "metadata": {
    "ExecuteTime": {
     "end_time": "2024-12-12T09:08:05.154587Z",
     "start_time": "2024-12-12T09:08:05.143832Z"
    }
   },
   "cell_type": "code",
   "source": "torch.save(model,\"mnist_mlp_model.pkl\")",
   "id": "a89c4ae0e25dfd07",
   "outputs": [],
   "execution_count": 11
  },
  {
   "metadata": {},
   "cell_type": "code",
   "outputs": [],
   "execution_count": null,
   "source": "",
   "id": "bbbcd45232e905b4"
  }
 ],
 "metadata": {
  "kernelspec": {
   "display_name": "Python 3",
   "language": "python",
   "name": "python3"
  },
  "language_info": {
   "codemirror_mode": {
    "name": "ipython",
    "version": 2
   },
   "file_extension": ".py",
   "mimetype": "text/x-python",
   "name": "python",
   "nbconvert_exporter": "python",
   "pygments_lexer": "ipython2",
   "version": "2.7.6"
  }
 },
 "nbformat": 4,
 "nbformat_minor": 5
}
